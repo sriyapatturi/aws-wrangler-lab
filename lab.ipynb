{
 "cells": [
  {
   "cell_type": "code",
   "execution_count": 3,
   "metadata": {},
   "outputs": [],
   "source": [
    "import configparser\n",
    "import boto3\n",
    "import pandas as pd\n",
    "\n",
    "# Load AWS credentials\n",
    "config = configparser.ConfigParser()\n",
    "config.read('aws.cfg')\n",
    "\n",
    "aws_access_key = config['AWS']['aws_access_key_id']\n",
    "aws_secret_key = config['AWS']['aws_secret_access_key']\n",
    "\n"
   ]
  },
  {
   "cell_type": "code",
   "execution_count": 4,
   "metadata": {},
   "outputs": [],
   "source": [
    "# Initialize the S3 client\n",
    "s3 = boto3.client(\n",
    "    's3',\n",
    "    aws_access_key_id=aws_access_key,\n",
    "    aws_secret_access_key=aws_secret_key\n",
    ")"
   ]
  },
  {
   "cell_type": "code",
   "execution_count": 5,
   "metadata": {},
   "outputs": [],
   "source": [
    "response = s3.list_buckets()"
   ]
  },
  {
   "cell_type": "code",
   "execution_count": 6,
   "metadata": {},
   "outputs": [
    {
     "name": "stdout",
     "output_type": "stream",
     "text": [
      "[{'Name': 'alina-week6-bucket', 'CreationDate': datetime.datetime(2024, 7, 23, 14, 59, 20, tzinfo=tzlocal())}, {'Name': 'amsu-aws-s3-assessment', 'CreationDate': datetime.datetime(2023, 9, 8, 16, 49, 14, tzinfo=tzlocal())}, {'Name': 'amsu-s3-cf-website', 'CreationDate': datetime.datetime(2023, 9, 7, 13, 50, 19, tzinfo=tzlocal())}, {'Name': 'andrea-lm-code-bucket', 'CreationDate': datetime.datetime(2020, 2, 6, 17, 40, 27, tzinfo=tzlocal())}, {'Name': 'andy-wrangler-bucket', 'CreationDate': datetime.datetime(2024, 7, 23, 15, 21, 45, tzinfo=tzlocal())}, {'Name': 'apiproject-build-bucket-su05297', 'CreationDate': datetime.datetime(2024, 7, 12, 18, 26, 43, tzinfo=tzlocal())}, {'Name': 'aryan-techcatalyst-awswrangler-lab', 'CreationDate': datetime.datetime(2024, 7, 23, 15, 8, 47, tzinfo=tzlocal())}, {'Name': 'aryan-techcatalyst-lab', 'CreationDate': datetime.datetime(2024, 7, 22, 16, 9, 42, tzinfo=tzlocal())}, {'Name': 'austin-lambda-s3', 'CreationDate': datetime.datetime(2023, 9, 19, 16, 14, 35, tzinfo=tzlocal())}, {'Name': 'aws-athena-query-results-535146832369-us-east-1', 'CreationDate': datetime.datetime(2024, 7, 22, 7, 44, 15, tzinfo=tzlocal())}, {'Name': 'aws-athena-query-results-535146832369-us-east-2', 'CreationDate': datetime.datetime(2024, 7, 23, 15, 49, 21, tzinfo=tzlocal())}, {'Name': 'aws-athena-query-results-535146832369-us-west-2', 'CreationDate': datetime.datetime(2024, 7, 22, 7, 42, 56, tzinfo=tzlocal())}, {'Name': 'aws-athena-query-results-us-east-1-535146832369', 'CreationDate': datetime.datetime(2024, 6, 20, 20, 30, 55, tzinfo=tzlocal())}, {'Name': 'aws-athena-query-results-us-east-1-535146832369nh', 'CreationDate': datetime.datetime(2024, 6, 20, 20, 45, 4, tzinfo=tzlocal())}, {'Name': 'aws-athena-query-results-us-east-1-tarek', 'CreationDate': datetime.datetime(2024, 6, 19, 15, 17, 21, tzinfo=tzlocal())}, {'Name': 'aws-athena-query-results-us-east-2-535146832369', 'CreationDate': datetime.datetime(2024, 6, 20, 18, 56, 27, tzinfo=tzlocal())}, {'Name': 'aws-athena-query-results-us-east-2-535146832369-kb', 'CreationDate': datetime.datetime(2024, 6, 20, 20, 10, 49, tzinfo=tzlocal())}, {'Name': 'aws-athena-query-results-us-east-2-535146832369ab', 'CreationDate': datetime.datetime(2024, 7, 19, 19, 7, 32, tzinfo=tzlocal())}, {'Name': 'aws-cloudtrail-logs-535146832369-01f575cd', 'CreationDate': datetime.datetime(2020, 12, 15, 20, 59, 58, tzinfo=tzlocal())}, {'Name': 'aws-cloudtrail-logs-535146832369-9d19bcae', 'CreationDate': datetime.datetime(2020, 12, 15, 20, 53, 55, tzinfo=tzlocal())}, {'Name': 'aws-glue-assets-535146832369-us-east-1', 'CreationDate': datetime.datetime(2024, 6, 19, 15, 41, 10, tzinfo=tzlocal())}, {'Name': 'aws-glue-assets-535146832369-us-east-2', 'CreationDate': datetime.datetime(2024, 6, 20, 19, 24, 6, tzinfo=tzlocal())}, {'Name': 'aws-glue-assets-535146832369-us-west-2', 'CreationDate': datetime.datetime(2024, 7, 23, 17, 55, 36, tzinfo=tzlocal())}, {'Name': 'aws-logs-535146832369-us-east-1', 'CreationDate': datetime.datetime(2024, 7, 18, 11, 38, 59, tzinfo=tzlocal())}, {'Name': 'aws-sam-cli-managed-default-samclisourcebucket-1oz2tqbsdli3', 'CreationDate': datetime.datetime(2023, 9, 21, 15, 58, 27, tzinfo=tzlocal())}, {'Name': 'aws-sam-cli-managed-default-samclisourcebucket-mgdplk7mifi7', 'CreationDate': datetime.datetime(2023, 9, 20, 11, 2, 16, tzinfo=tzlocal())}, {'Name': 'aws-sam-cli-managed-default-samclisourcebucket-t2x2wb9il3p1', 'CreationDate': datetime.datetime(2023, 9, 20, 16, 22, 33, tzinfo=tzlocal())}, {'Name': 'aws-sam-cli-managed-default-samclisourcebucket-yh6y67cvomwp', 'CreationDate': datetime.datetime(2023, 9, 20, 16, 29, 1, tzinfo=tzlocal())}, {'Name': 'axel-di-student14', 'CreationDate': datetime.datetime(2024, 3, 20, 15, 54, 12, tzinfo=tzlocal())}, {'Name': 'axel-di-student2', 'CreationDate': datetime.datetime(2024, 3, 20, 16, 44, 18, tzinfo=tzlocal())}, {'Name': 'axel-di-student25', 'CreationDate': datetime.datetime(2024, 3, 20, 20, 4, 31, tzinfo=tzlocal())}, {'Name': 'axel-di-student8', 'CreationDate': datetime.datetime(2024, 3, 20, 16, 26, 54, tzinfo=tzlocal())}, {'Name': 'axel-di-team2', 'CreationDate': datetime.datetime(2024, 3, 20, 16, 40, 32, tzinfo=tzlocal())}, {'Name': 'barb-lm-code-bucket', 'CreationDate': datetime.datetime(2020, 2, 7, 17, 55, tzinfo=tzlocal())}, {'Name': 'ben-awswrangler', 'CreationDate': datetime.datetime(2024, 7, 23, 15, 14, 16, tzinfo=tzlocal())}, {'Name': 'bored-api-reactjs-build-bucket-rx08052', 'CreationDate': datetime.datetime(2024, 7, 12, 19, 18, 53, tzinfo=tzlocal())}, {'Name': 'bored-api-rx08052', 'CreationDate': datetime.datetime(2024, 7, 1, 13, 26, 28, tzinfo=tzlocal())}, {'Name': 'brian-s3-demo', 'CreationDate': datetime.datetime(2019, 9, 23, 15, 50, 51, tzinfo=tzlocal())}, {'Name': 'bryantbeach-original-images', 'CreationDate': datetime.datetime(2022, 6, 28, 18, 14, 48, tzinfo=tzlocal())}, {'Name': 'bryantbeach-thumbnail-images', 'CreationDate': datetime.datetime(2022, 6, 28, 18, 15, 6, tzinfo=tzlocal())}, {'Name': 'bucket-cl05355', 'CreationDate': datetime.datetime(2024, 6, 26, 14, 50, 18, tzinfo=tzlocal())}, {'Name': 'bucket-terraform-lab4-41091', 'CreationDate': datetime.datetime(2023, 10, 19, 19, 23, 32, tzinfo=tzlocal())}, {'Name': 'bucket-terraform-lab4-67147', 'CreationDate': datetime.datetime(2024, 3, 19, 19, 35, 1, tzinfo=tzlocal())}, {'Name': 'bucket-terraform-lab4-82140', 'CreationDate': datetime.datetime(2023, 10, 19, 19, 23, 52, tzinfo=tzlocal())}, {'Name': 'bucket-terraform-lab4-95407', 'CreationDate': datetime.datetime(2023, 10, 19, 19, 31, 55, tzinfo=tzlocal())}, {'Name': 'bucket-terraform-lab4-98294', 'CreationDate': datetime.datetime(2023, 10, 19, 19, 53, 23, tzinfo=tzlocal())}, {'Name': 'buggy-535146832369-us-east-1', 'CreationDate': datetime.datetime(2023, 9, 21, 18, 11, 34, tzinfo=tzlocal())}, {'Name': 'bugs-app-stack-535146832369-us-east-2', 'CreationDate': datetime.datetime(2023, 9, 21, 17, 38, 24, tzinfo=tzlocal())}, {'Name': 'calvin-lm-code-bucket', 'CreationDate': datetime.datetime(2020, 2, 4, 14, 28, 41, tzinfo=tzlocal())}, {'Name': 'capstone-cloud-template-bucket', 'CreationDate': datetime.datetime(2023, 9, 15, 16, 54, 6, tzinfo=tzlocal())}, {'Name': 'capstone-service-image', 'CreationDate': datetime.datetime(2023, 9, 22, 20, 54, 8, tzinfo=tzlocal())}, {'Name': 'catapiplzwork-cl05355', 'CreationDate': datetime.datetime(2024, 6, 28, 15, 1, 8, tzinfo=tzlocal())}, {'Name': 'cf-templates-6dazn7owsddb-ap-south-1', 'CreationDate': datetime.datetime(2023, 9, 7, 20, 40, 52, tzinfo=tzlocal())}, {'Name': 'cf-templates-6dazn7owsddb-us-east-1', 'CreationDate': datetime.datetime(2019, 10, 28, 17, 21, 12, tzinfo=tzlocal())}, {'Name': 'cf-templates-6dazn7owsddb-us-east-2', 'CreationDate': datetime.datetime(2019, 9, 25, 23, 36, 51, tzinfo=tzlocal())}, {'Name': 'cf-templates-6dazn7owsddb-us-west-2', 'CreationDate': datetime.datetime(2019, 10, 28, 14, 52, 14, tzinfo=tzlocal())}, {'Name': 'codepipeline-us-east-2-68716816310', 'CreationDate': datetime.datetime(2024, 6, 26, 21, 58, 28, tzinfo=tzlocal())}, {'Name': 'connor-awsassignment', 'CreationDate': datetime.datetime(2023, 9, 8, 18, 20, 29, tzinfo=tzlocal())}, {'Name': 'connor-lambda-s3', 'CreationDate': datetime.datetime(2023, 9, 19, 16, 14, 44, tzinfo=tzlocal())}, {'Name': 'connor-s3-cf-final-website', 'CreationDate': datetime.datetime(2023, 9, 7, 13, 50, 18, tzinfo=tzlocal())}, {'Name': 'connor-s3-sqs', 'CreationDate': datetime.datetime(2023, 9, 18, 19, 55, 28, tzinfo=tzlocal())}, {'Name': 'connorsbucketdemo', 'CreationDate': datetime.datetime(2023, 9, 6, 15, 17, 30, tzinfo=tzlocal())}, {'Name': 'countingbucket-0', 'CreationDate': datetime.datetime(2022, 3, 29, 8, 23, 27, tzinfo=tzlocal())}, {'Name': 'countingbucket-1', 'CreationDate': datetime.datetime(2022, 3, 29, 8, 23, 27, tzinfo=tzlocal())}, {'Name': 'countingbucket-2', 'CreationDate': datetime.datetime(2022, 3, 29, 8, 23, 27, tzinfo=tzlocal())}, {'Name': 'craig-lm-code-bucket', 'CreationDate': datetime.datetime(2020, 2, 4, 17, 0, 12, tzinfo=tzlocal())}, {'Name': 'darrell-assessment-s3', 'CreationDate': datetime.datetime(2023, 9, 8, 14, 18, 4, tzinfo=tzlocal())}, {'Name': 'david-s3-angular-assesment', 'CreationDate': datetime.datetime(2023, 9, 8, 13, 30, 18, tzinfo=tzlocal())}, {'Name': 'davidprivatebucket', 'CreationDate': datetime.datetime(2023, 9, 7, 13, 55, 6, tzinfo=tzlocal())}, {'Name': 'ddd434278923423', 'CreationDate': datetime.datetime(2022, 1, 6, 15, 54, 30, tzinfo=tzlocal())}, {'Name': 'demo-my-build-bucket-maaike', 'CreationDate': datetime.datetime(2024, 7, 2, 15, 43, 33, tzinfo=tzlocal())}, {'Name': 'devint-2373', 'CreationDate': datetime.datetime(2024, 3, 19, 19, 14, 26, tzinfo=tzlocal())}, {'Name': 'devint-4633', 'CreationDate': datetime.datetime(2024, 3, 19, 18, 46, 13, tzinfo=tzlocal())}, {'Name': 'devint-6326', 'CreationDate': datetime.datetime(2024, 3, 13, 15, 49, 5, tzinfo=tzlocal())}, {'Name': 'devint-8987', 'CreationDate': datetime.datetime(2024, 3, 13, 15, 43, 10, tzinfo=tzlocal())}, {'Name': 'devint-auser1', 'CreationDate': datetime.datetime(2022, 2, 28, 15, 12, 46, tzinfo=tzlocal())}, {'Name': 'devint-auser2', 'CreationDate': datetime.datetime(2022, 2, 28, 15, 12, 46, tzinfo=tzlocal())}, {'Name': 'devint-dan2238', 'CreationDate': datetime.datetime(2023, 10, 18, 21, 14, 14, tzinfo=tzlocal())}, {'Name': 'devint-krueger-alt', 'CreationDate': datetime.datetime(2022, 1, 7, 9, 30, 17, tzinfo=tzlocal())}, {'Name': 'devint-std14-20220329062534398200000001', 'CreationDate': datetime.datetime(2022, 3, 29, 6, 25, 35, tzinfo=tzlocal())}, {'Name': 'devint-std14-20220329062534458500000001', 'CreationDate': datetime.datetime(2022, 3, 29, 6, 25, 35, tzinfo=tzlocal())}, {'Name': 'devint-std14-alt', 'CreationDate': datetime.datetime(2022, 3, 28, 13, 14, 9, tzinfo=tzlocal())}, {'Name': 'devint-std17-20220329063555600900000001', 'CreationDate': datetime.datetime(2022, 3, 29, 6, 35, 57, tzinfo=tzlocal())}, {'Name': 'devint-std17-20220329063555696700000001', 'CreationDate': datetime.datetime(2022, 3, 29, 6, 35, 56, tzinfo=tzlocal())}, {'Name': 'devint-std17-alt', 'CreationDate': datetime.datetime(2022, 3, 28, 13, 12, 22, tzinfo=tzlocal())}, {'Name': 'devint-std18-20220329063643571000000001', 'CreationDate': datetime.datetime(2022, 3, 29, 6, 36, 44, tzinfo=tzlocal())}, {'Name': 'devint-std18-20220329063644010600000001', 'CreationDate': datetime.datetime(2022, 3, 29, 6, 36, 46, tzinfo=tzlocal())}, {'Name': 'devint-std30-20220329110905171700000001', 'CreationDate': datetime.datetime(2022, 3, 29, 11, 9, 6, tzinfo=tzlocal())}, {'Name': 'devint-std4-alt', 'CreationDate': datetime.datetime(2022, 3, 28, 12, 46, 20, tzinfo=tzlocal())}, {'Name': 'devint-std7-alt', 'CreationDate': datetime.datetime(2022, 3, 28, 13, 40, 9, tzinfo=tzlocal())}, {'Name': 'devint-std8-20220329064413559800000001', 'CreationDate': datetime.datetime(2022, 3, 29, 6, 44, 14, tzinfo=tzlocal())}, {'Name': 'devint-std8-20220329064414038300000001', 'CreationDate': datetime.datetime(2022, 3, 29, 6, 44, 15, tzinfo=tzlocal())}, {'Name': 'devint-student1-2515', 'CreationDate': datetime.datetime(2024, 4, 3, 23, 32, 45, tzinfo=tzlocal())}, {'Name': 'devint-student1-4241', 'CreationDate': datetime.datetime(2024, 3, 18, 15, 6, 11, tzinfo=tzlocal())}, {'Name': 'devint-student10-2515', 'CreationDate': datetime.datetime(2024, 4, 3, 23, 32, 42, tzinfo=tzlocal())}, {'Name': 'devint-student10-4241', 'CreationDate': datetime.datetime(2024, 3, 18, 15, 6, 11, tzinfo=tzlocal())}, {'Name': 'devint-student11-2515', 'CreationDate': datetime.datetime(2024, 4, 3, 23, 32, 48, tzinfo=tzlocal())}, {'Name': 'devint-student11-4241', 'CreationDate': datetime.datetime(2024, 3, 18, 15, 6, 20, tzinfo=tzlocal())}, {'Name': 'devint-student12-2515', 'CreationDate': datetime.datetime(2024, 4, 3, 23, 32, 42, tzinfo=tzlocal())}, {'Name': 'devint-student12-4241', 'CreationDate': datetime.datetime(2024, 3, 18, 15, 6, 19, tzinfo=tzlocal())}, {'Name': 'devint-student13-2515', 'CreationDate': datetime.datetime(2024, 4, 3, 23, 32, 45, tzinfo=tzlocal())}, {'Name': 'devint-student13-4241', 'CreationDate': datetime.datetime(2024, 3, 18, 15, 6, 27, tzinfo=tzlocal())}, {'Name': 'devint-student14', 'CreationDate': datetime.datetime(2023, 10, 18, 17, 17, 41, tzinfo=tzlocal())}, {'Name': 'devint-student14-2515', 'CreationDate': datetime.datetime(2024, 4, 3, 23, 32, 42, tzinfo=tzlocal())}, {'Name': 'devint-student14-4241', 'CreationDate': datetime.datetime(2024, 3, 18, 15, 6, 13, tzinfo=tzlocal())}, {'Name': 'devint-student15-2515', 'CreationDate': datetime.datetime(2024, 4, 3, 23, 32, 42, tzinfo=tzlocal())}, {'Name': 'devint-student15-4241', 'CreationDate': datetime.datetime(2024, 3, 18, 15, 6, 17, tzinfo=tzlocal())}, {'Name': 'devint-student16-2515', 'CreationDate': datetime.datetime(2024, 4, 3, 23, 32, 42, tzinfo=tzlocal())}, {'Name': 'devint-student16-4241', 'CreationDate': datetime.datetime(2024, 3, 18, 15, 6, 21, tzinfo=tzlocal())}, {'Name': 'devint-student17-2515', 'CreationDate': datetime.datetime(2024, 4, 3, 23, 32, 48, tzinfo=tzlocal())}, {'Name': 'devint-student17-4241', 'CreationDate': datetime.datetime(2024, 3, 18, 15, 6, 12, tzinfo=tzlocal())}, {'Name': 'devint-student18-2515', 'CreationDate': datetime.datetime(2024, 4, 3, 23, 32, 45, tzinfo=tzlocal())}, {'Name': 'devint-student18-4241', 'CreationDate': datetime.datetime(2024, 3, 18, 15, 6, 12, tzinfo=tzlocal())}, {'Name': 'devint-student19-2515', 'CreationDate': datetime.datetime(2024, 4, 3, 23, 32, 42, tzinfo=tzlocal())}, {'Name': 'devint-student19-4241', 'CreationDate': datetime.datetime(2024, 3, 18, 15, 6, 20, tzinfo=tzlocal())}, {'Name': 'devint-student2-2515', 'CreationDate': datetime.datetime(2024, 4, 3, 23, 32, 45, tzinfo=tzlocal())}, {'Name': 'devint-student2-4241', 'CreationDate': datetime.datetime(2024, 3, 18, 15, 6, 25, tzinfo=tzlocal())}, {'Name': 'devint-student20', 'CreationDate': datetime.datetime(2023, 10, 18, 18, 46, 37, tzinfo=tzlocal())}, {'Name': 'devint-student20-2515', 'CreationDate': datetime.datetime(2024, 4, 3, 23, 32, 45, tzinfo=tzlocal())}, {'Name': 'devint-student20-4241', 'CreationDate': datetime.datetime(2024, 3, 18, 15, 6, 12, tzinfo=tzlocal())}, {'Name': 'devint-student21-2515', 'CreationDate': datetime.datetime(2024, 4, 3, 23, 32, 42, tzinfo=tzlocal())}, {'Name': 'devint-student21-4241', 'CreationDate': datetime.datetime(2024, 3, 18, 15, 6, 25, tzinfo=tzlocal())}, {'Name': 'devint-student22', 'CreationDate': datetime.datetime(2023, 10, 18, 19, 1, 44, tzinfo=tzlocal())}, {'Name': 'devint-student22-2515', 'CreationDate': datetime.datetime(2024, 4, 3, 23, 32, 48, tzinfo=tzlocal())}, {'Name': 'devint-student22-4241', 'CreationDate': datetime.datetime(2024, 3, 18, 15, 6, 12, tzinfo=tzlocal())}, {'Name': 'devint-student23-2515', 'CreationDate': datetime.datetime(2024, 4, 3, 23, 32, 45, tzinfo=tzlocal())}, {'Name': 'devint-student23-4241', 'CreationDate': datetime.datetime(2024, 3, 18, 15, 6, 13, tzinfo=tzlocal())}, {'Name': 'devint-student24-2515', 'CreationDate': datetime.datetime(2024, 4, 3, 23, 32, 49, tzinfo=tzlocal())}, {'Name': 'devint-student24-4241', 'CreationDate': datetime.datetime(2024, 3, 18, 15, 6, 22, tzinfo=tzlocal())}, {'Name': 'devint-student25-2515', 'CreationDate': datetime.datetime(2024, 4, 3, 23, 32, 42, tzinfo=tzlocal())}, {'Name': 'devint-student3-2515', 'CreationDate': datetime.datetime(2024, 4, 3, 23, 32, 46, tzinfo=tzlocal())}, {'Name': 'devint-student3-4241', 'CreationDate': datetime.datetime(2024, 3, 18, 15, 6, 22, tzinfo=tzlocal())}, {'Name': 'devint-student4-2515', 'CreationDate': datetime.datetime(2024, 4, 3, 23, 32, 46, tzinfo=tzlocal())}, {'Name': 'devint-student4-4241', 'CreationDate': datetime.datetime(2024, 3, 18, 15, 6, 17, tzinfo=tzlocal())}, {'Name': 'devint-student5-2515', 'CreationDate': datetime.datetime(2024, 4, 3, 23, 32, 49, tzinfo=tzlocal())}, {'Name': 'devint-student5-4241', 'CreationDate': datetime.datetime(2024, 3, 18, 15, 6, 20, tzinfo=tzlocal())}, {'Name': 'devint-student6-2515', 'CreationDate': datetime.datetime(2024, 4, 3, 23, 32, 42, tzinfo=tzlocal())}, {'Name': 'devint-student6-4241', 'CreationDate': datetime.datetime(2024, 3, 18, 15, 6, 26, tzinfo=tzlocal())}, {'Name': 'devint-student7-2515', 'CreationDate': datetime.datetime(2024, 4, 3, 23, 32, 46, tzinfo=tzlocal())}, {'Name': 'devint-student7-4241', 'CreationDate': datetime.datetime(2024, 3, 18, 15, 6, 26, tzinfo=tzlocal())}, {'Name': 'devint-student8-2515', 'CreationDate': datetime.datetime(2024, 4, 3, 23, 32, 42, tzinfo=tzlocal())}, {'Name': 'devint-student8-4241', 'CreationDate': datetime.datetime(2024, 3, 18, 15, 6, 20, tzinfo=tzlocal())}, {'Name': 'devint-student9', 'CreationDate': datetime.datetime(2023, 10, 18, 17, 3, 39, tzinfo=tzlocal())}, {'Name': 'devint-student9-2515', 'CreationDate': datetime.datetime(2024, 4, 3, 23, 32, 45, tzinfo=tzlocal())}, {'Name': 'devint-student9-4241', 'CreationDate': datetime.datetime(2024, 3, 18, 15, 6, 11, tzinfo=tzlocal())}, {'Name': 'devint-tabrej-alam-alt', 'CreationDate': datetime.datetime(2022, 1, 6, 15, 35, 26, tzinfo=tzlocal())}, {'Name': 'digitalnomads', 'CreationDate': datetime.datetime(2020, 12, 8, 20, 24, 58, tzinfo=tzlocal())}, {'Name': 'dooku2', 'CreationDate': datetime.datetime(2022, 1, 6, 15, 46, 50, tzinfo=tzlocal())}, {'Name': 'dspera-lm-code-bucket', 'CreationDate': datetime.datetime(2020, 2, 4, 16, 30, 19, tzinfo=tzlocal())}, {'Name': 'dws-di-corleone', 'CreationDate': datetime.datetime(2022, 1, 6, 14, 23, 27, tzinfo=tzlocal())}, {'Name': 'dws-di-dooku-20220107144313147600000001', 'CreationDate': datetime.datetime(2022, 1, 7, 14, 43, 15, tzinfo=tzlocal())}, {'Name': 'dws-di-jocker', 'CreationDate': datetime.datetime(2022, 1, 6, 14, 56, 17, tzinfo=tzlocal())}, {'Name': 'dws-di-krueger', 'CreationDate': datetime.datetime(2022, 1, 6, 14, 23, 32, tzinfo=tzlocal())}, {'Name': 'dws-di-nosferatu', 'CreationDate': datetime.datetime(2022, 1, 6, 15, 8, 41, tzinfo=tzlocal())}, {'Name': 'dws-di-nosferatu-alt', 'CreationDate': datetime.datetime(2022, 1, 6, 15, 24, 59, tzinfo=tzlocal())}, {'Name': 'dws-di-ramkumar', 'CreationDate': datetime.datetime(2022, 1, 6, 14, 23, 54, tzinfo=tzlocal())}, {'Name': 'dws-di-spike', 'CreationDate': datetime.datetime(2022, 1, 6, 14, 32, 15, tzinfo=tzlocal())}, {'Name': 'dws-di-student10', 'CreationDate': datetime.datetime(2023, 10, 20, 14, 40, 28, tzinfo=tzlocal())}, {'Name': 'dws-di-tabrej-alam', 'CreationDate': datetime.datetime(2022, 1, 6, 14, 21, 46, tzinfo=tzlocal())}, {'Name': 'dws-kattegat-ragnar', 'CreationDate': datetime.datetime(2022, 1, 7, 11, 30, 40, tzinfo=tzlocal())}, {'Name': 'eamonn-test-bucket-865', 'CreationDate': datetime.datetime(2020, 11, 11, 14, 6, 48, tzinfo=tzlocal())}, {'Name': 'eksworkshop-535146832369-codepipeline-artifacts', 'CreationDate': datetime.datetime(2021, 6, 25, 16, 24, 18, tzinfo=tzlocal())}, {'Name': 'elasticbeanstalk-us-east-1-535146832369', 'CreationDate': datetime.datetime(2019, 9, 23, 14, 2, 31, tzinfo=tzlocal())}, {'Name': 'elasticbeanstalk-us-east-2-535146832369', 'CreationDate': datetime.datetime(2019, 9, 23, 14, 1, 7, tzinfo=tzlocal())}, {'Name': 'eoanifoeanfeionfiobvnuem', 'CreationDate': datetime.datetime(2023, 9, 27, 17, 26, 25, tzinfo=tzlocal())}, {'Name': 'ferfybucket-assessment', 'CreationDate': datetime.datetime(2023, 9, 8, 16, 49, 20, tzinfo=tzlocal())}, {'Name': 'first-bucket-es05260', 'CreationDate': datetime.datetime(2024, 6, 26, 15, 9, 29, tzinfo=tzlocal())}, {'Name': 'first-web-app-bucket', 'CreationDate': datetime.datetime(2024, 6, 1, 19, 25, 31, tzinfo=tzlocal())}, {'Name': 'first-web-app-cs08090', 'CreationDate': datetime.datetime(2024, 6, 25, 19, 11, 28, tzinfo=tzlocal())}, {'Name': 'georgethomas-original-images', 'CreationDate': datetime.datetime(2022, 6, 24, 18, 47, 22, tzinfo=tzlocal())}, {'Name': 'georgethomas-thumbnail-images', 'CreationDate': datetime.datetime(2022, 6, 24, 18, 47, 39, tzinfo=tzlocal())}, {'Name': 'gina-techcatalyst-awswrangler', 'CreationDate': datetime.datetime(2024, 7, 23, 14, 56, 22, tzinfo=tzlocal())}, {'Name': 'hark-assessment-bucket', 'CreationDate': datetime.datetime(2023, 9, 11, 14, 55, 46, tzinfo=tzlocal())}, {'Name': 'hk-lambda-bucket', 'CreationDate': datetime.datetime(2023, 9, 19, 16, 14, 51, tzinfo=tzlocal())}, {'Name': 'isabella.wrangler', 'CreationDate': datetime.datetime(2024, 7, 23, 15, 8, 55, tzinfo=tzlocal())}, {'Name': 'jalaunsbucket', 'CreationDate': datetime.datetime(2024, 6, 26, 14, 28, 40, tzinfo=tzlocal())}, {'Name': 'jalaunsbucket-for-codedeploy', 'CreationDate': datetime.datetime(2024, 7, 5, 16, 56, 1, tzinfo=tzlocal())}, {'Name': 'jamesbrett-lm-code-bucket', 'CreationDate': datetime.datetime(2020, 2, 5, 2, 21, 26, tzinfo=tzlocal())}, {'Name': 'jason-awswrangler', 'CreationDate': datetime.datetime(2024, 7, 23, 15, 12, 24, tzinfo=tzlocal())}, {'Name': 'jc-bucket-lab', 'CreationDate': datetime.datetime(2024, 7, 23, 15, 16, 6, tzinfo=tzlocal())}, {'Name': 'joe-lm-code-bucket', 'CreationDate': datetime.datetime(2020, 2, 5, 22, 12, 1, tzinfo=tzlocal())}, {'Name': 'jokes-build-bucket-su05297', 'CreationDate': datetime.datetime(2024, 7, 5, 16, 0, 2, tzinfo=tzlocal())}, {'Name': 'jokesbucket-su05297', 'CreationDate': datetime.datetime(2024, 6, 28, 17, 8, 6, tzinfo=tzlocal())}, {'Name': 'jonathanbardwellsbucket', 'CreationDate': datetime.datetime(2019, 9, 23, 15, 50, 31, tzinfo=tzlocal())}, {'Name': 'jrrickerson-demo-cohort7', 'CreationDate': datetime.datetime(2022, 6, 22, 18, 6, 32, tzinfo=tzlocal())}, {'Name': 'juliev1-bucket', 'CreationDate': datetime.datetime(2019, 9, 23, 15, 50, 46, tzinfo=tzlocal())}, {'Name': 'kaitlyn-techcatalyst-lab', 'CreationDate': datetime.datetime(2024, 7, 22, 15, 50, 8, tzinfo=tzlocal())}, {'Name': 'kaitlyn-wrangler', 'CreationDate': datetime.datetime(2024, 7, 23, 15, 19, 9, tzinfo=tzlocal())}, {'Name': 'kanye-build-bucket-mk05255', 'CreationDate': datetime.datetime(2024, 7, 5, 15, 3, 41, tzinfo=tzlocal())}, {'Name': 'kanye-rest-bucket-mk05255', 'CreationDate': datetime.datetime(2024, 6, 28, 14, 39, 6, tzinfo=tzlocal())}, {'Name': 'kerim-test-bucket', 'CreationDate': datetime.datetime(2020, 11, 12, 22, 48, 13, tzinfo=tzlocal())}, {'Name': 'lab-two', 'CreationDate': datetime.datetime(2024, 6, 18, 19, 19, 5, tzinfo=tzlocal())}, {'Name': 'lcates-original-images', 'CreationDate': datetime.datetime(2022, 6, 24, 18, 30, 39, tzinfo=tzlocal())}, {'Name': 'lcates-thumbnail-images', 'CreationDate': datetime.datetime(2022, 6, 24, 18, 31, 12, tzinfo=tzlocal())}, {'Name': 'lincoln-bucket-01', 'CreationDate': datetime.datetime(2023, 9, 28, 18, 18, 39, tzinfo=tzlocal())}, {'Name': 'maaike-web-bucket', 'CreationDate': datetime.datetime(2024, 6, 26, 14, 28, 32, tzinfo=tzlocal())}, {'Name': 'magesh-angular-gitlab-app', 'CreationDate': datetime.datetime(2023, 9, 22, 16, 34, 57, tzinfo=tzlocal())}, {'Name': 'magesh-lambda-s3', 'CreationDate': datetime.datetime(2023, 9, 19, 16, 14, 34, tzinfo=tzlocal())}, {'Name': 'malcolm-assesment-bucket', 'CreationDate': datetime.datetime(2023, 9, 8, 16, 23, 13, tzinfo=tzlocal())}, {'Name': 'malcolm-sam-app-ec2-535146832369-us-east-2', 'CreationDate': datetime.datetime(2023, 9, 21, 17, 36, 54, tzinfo=tzlocal())}, {'Name': 'mchase-s3', 'CreationDate': datetime.datetime(2019, 9, 23, 15, 50, 47, tzinfo=tzlocal())}, {'Name': 'mini-api-project-auto-deploy-je05425', 'CreationDate': datetime.datetime(2024, 7, 3, 19, 24, 56, tzinfo=tzlocal())}, {'Name': 'mini-api-project-je', 'CreationDate': datetime.datetime(2024, 6, 27, 16, 24, 46, tzinfo=tzlocal())}, {'Name': 'mini-project-bucket-es05260', 'CreationDate': datetime.datetime(2024, 7, 5, 19, 6, 31, tzinfo=tzlocal())}, {'Name': 'mini-react-project-cs08090', 'CreationDate': datetime.datetime(2024, 7, 11, 20, 10, 29, tzinfo=tzlocal())}, {'Name': 'my-api-build-bucket-et05298', 'CreationDate': datetime.datetime(2024, 7, 5, 14, 34, 7, tzinfo=tzlocal())}, {'Name': 'my-api-project-bucket-kl08053', 'CreationDate': datetime.datetime(2024, 7, 5, 15, 15, 18, tzinfo=tzlocal())}, {'Name': 'my-api-project-bucket-se05269', 'CreationDate': datetime.datetime(2024, 6, 28, 13, 9, 34, tzinfo=tzlocal())}, {'Name': 'my-bucket-ds08057', 'CreationDate': datetime.datetime(2024, 6, 18, 16, 40, 4, tzinfo=tzlocal())}, {'Name': 'my-bucket-kl08053', 'CreationDate': datetime.datetime(2024, 6, 18, 16, 23, 12, tzinfo=tzlocal())}, {'Name': 'my-bucket2-et05298', 'CreationDate': datetime.datetime(2024, 6, 26, 16, 5, 38, tzinfo=tzlocal())}, {'Name': 'my-build-bucket-cl05355', 'CreationDate': datetime.datetime(2024, 7, 2, 16, 12, 42, tzinfo=tzlocal())}, {'Name': 'my-build-bucket-cs08090', 'CreationDate': datetime.datetime(2024, 7, 2, 16, 11, 31, tzinfo=tzlocal())}, {'Name': 'my-build-bucket-ds08057', 'CreationDate': datetime.datetime(2024, 7, 2, 16, 15, 46, tzinfo=tzlocal())}, {'Name': 'my-build-bucket-es05260', 'CreationDate': datetime.datetime(2024, 7, 2, 16, 12, 6, tzinfo=tzlocal())}, {'Name': 'my-build-bucket-et05298', 'CreationDate': datetime.datetime(2024, 7, 2, 16, 11, 26, tzinfo=tzlocal())}, {'Name': 'my-build-bucket-jalaun', 'CreationDate': datetime.datetime(2024, 7, 2, 16, 13, 16, tzinfo=tzlocal())}, {'Name': 'my-build-bucket-je05425', 'CreationDate': datetime.datetime(2024, 7, 2, 16, 17, tzinfo=tzlocal())}, {'Name': 'my-build-bucket-kl08053', 'CreationDate': datetime.datetime(2024, 7, 2, 16, 11, 35, tzinfo=tzlocal())}, {'Name': 'my-build-bucket-maaike', 'CreationDate': datetime.datetime(2024, 6, 29, 23, 53, 51, tzinfo=tzlocal())}, {'Name': 'my-build-bucket-mk05255', 'CreationDate': datetime.datetime(2024, 7, 2, 16, 11, 38, tzinfo=tzlocal())}, {'Name': 'my-build-bucket-ov05296', 'CreationDate': datetime.datetime(2024, 7, 2, 16, 14, 55, tzinfo=tzlocal())}, {'Name': 'my-build-bucket-rx08052', 'CreationDate': datetime.datetime(2024, 7, 2, 16, 12, 2, tzinfo=tzlocal())}, {'Name': 'my-build-bucket-se05269', 'CreationDate': datetime.datetime(2024, 7, 2, 16, 11, 10, tzinfo=tzlocal())}, {'Name': 'my-build-bucket-sh03945', 'CreationDate': datetime.datetime(2024, 6, 24, 20, 34, 36, tzinfo=tzlocal())}, {'Name': 'my-build-bucket-su05297', 'CreationDate': datetime.datetime(2024, 7, 2, 16, 12, 38, tzinfo=tzlocal())}, {'Name': 'my-project-bucket-ov05296', 'CreationDate': datetime.datetime(2024, 6, 27, 16, 23, 42, tzinfo=tzlocal())}, {'Name': 'my-react-build-api-bucket-se05269', 'CreationDate': datetime.datetime(2024, 7, 12, 17, 27, 54, tzinfo=tzlocal())}, {'Name': 'my-riddles-build-bucket-ov05296', 'CreationDate': datetime.datetime(2024, 7, 5, 13, 9, 59, tzinfo=tzlocal())}, {'Name': 'my-s3-bucket-se05269', 'CreationDate': datetime.datetime(2024, 6, 26, 15, 11, 16, tzinfo=tzlocal())}, {'Name': 'my-test-bucket-student20', 'CreationDate': datetime.datetime(2023, 10, 20, 19, 25, 33, tzinfo=tzlocal())}, {'Name': 'my-tf-test-bucket-student17', 'CreationDate': datetime.datetime(2023, 10, 19, 14, 43, 36, tzinfo=tzlocal())}, {'Name': 'my-tf-test-bucket-student20', 'CreationDate': datetime.datetime(2023, 10, 20, 19, 25, 33, tzinfo=tzlocal())}, {'Name': 'my-tf-test-bucket-student23', 'CreationDate': datetime.datetime(2023, 10, 19, 14, 34, 34, tzinfo=tzlocal())}, {'Name': 'my-tf-test-bucket-teacher2', 'CreationDate': datetime.datetime(2023, 10, 19, 14, 47, 5, tzinfo=tzlocal())}, {'Name': 'myawsbucket-ds08057', 'CreationDate': datetime.datetime(2024, 6, 26, 14, 28, 52, tzinfo=tzlocal())}, {'Name': 'myawsbucket-kl08053', 'CreationDate': datetime.datetime(2024, 6, 26, 14, 49, 41, tzinfo=tzlocal())}, {'Name': 'myawsbucket-mini-project-ds08057', 'CreationDate': datetime.datetime(2024, 6, 28, 17, 16, 59, tzinfo=tzlocal())}, {'Name': 'mybucket4efs.com', 'CreationDate': datetime.datetime(2021, 6, 24, 8, 55, 7, tzinfo=tzlocal())}, {'Name': 'mybucket7707', 'CreationDate': datetime.datetime(2020, 1, 28, 15, 54, 21, tzinfo=tzlocal())}, {'Name': 'mys3bucket-mk05255', 'CreationDate': datetime.datetime(2024, 6, 26, 16, 4, 3, tzinfo=tzlocal())}, {'Name': 'natali-assessment-bucket', 'CreationDate': datetime.datetime(2023, 9, 8, 12, 42, 58, tzinfo=tzlocal())}, {'Name': 'nithila-aws-wrangler', 'CreationDate': datetime.datetime(2024, 7, 23, 15, 4, 47, tzinfo=tzlocal())}, {'Name': 'nithila-techcatalyst-labs', 'CreationDate': datetime.datetime(2024, 7, 23, 13, 5, 20, tzinfo=tzlocal())}, {'Name': 'nullwpstage', 'CreationDate': datetime.datetime(2022, 7, 11, 15, 42, 55, tzinfo=tzlocal())}, {'Name': 'orion-capstone', 'CreationDate': datetime.datetime(2021, 6, 21, 14, 51, 7, tzinfo=tzlocal())}, {'Name': 'patrickmccardy-lm-code-bucket', 'CreationDate': datetime.datetime(2020, 2, 6, 13, 6, 8, tzinfo=tzlocal())}, {'Name': 'peter-wrangler', 'CreationDate': datetime.datetime(2024, 7, 23, 14, 58, 57, tzinfo=tzlocal())}, {'Name': 'pokebucket-cs08090', 'CreationDate': datetime.datetime(2024, 6, 28, 16, 35, 17, tzinfo=tzlocal())}, {'Name': 'radar-app-dev-build-bucket', 'CreationDate': datetime.datetime(2024, 7, 15, 14, 33, 38, tzinfo=tzlocal())}, {'Name': 'react-jokesapi-ds08057', 'CreationDate': datetime.datetime(2024, 7, 12, 19, 24, 49, tzinfo=tzlocal())}, {'Name': 'reportbucketnff1', 'CreationDate': datetime.datetime(2021, 11, 10, 21, 5, 52, tzinfo=tzlocal())}, {'Name': 'repurposed-jalaunsbucket', 'CreationDate': datetime.datetime(2024, 7, 5, 17, 18, 24, tzinfo=tzlocal())}, {'Name': 'rjp-original-images', 'CreationDate': datetime.datetime(2022, 6, 27, 20, 5, 34, tzinfo=tzlocal())}, {'Name': 'rjp-thumbnail-images', 'CreationDate': datetime.datetime(2022, 6, 27, 20, 5, 54, tzinfo=tzlocal())}, {'Name': 'rx08052-web-bucket', 'CreationDate': datetime.datetime(2024, 6, 26, 15, 17, 46, tzinfo=tzlocal())}, {'Name': 'sagemaker-course-di', 'CreationDate': datetime.datetime(2023, 11, 17, 11, 51, 31, tzinfo=tzlocal())}, {'Name': 'sagemaker-studio-535146832369-db81fj1x82w', 'CreationDate': datetime.datetime(2023, 11, 17, 11, 54, 17, tzinfo=tzlocal())}, {'Name': 'sagemaker-us-east-1-535146832369', 'CreationDate': datetime.datetime(2023, 11, 17, 12, 7, 26, tzinfo=tzlocal())}, {'Name': 'sai-tf-test-bucket-sai', 'CreationDate': datetime.datetime(2023, 10, 19, 14, 48, 20, tzinfo=tzlocal())}, {'Name': 'samee-awswrangler', 'CreationDate': datetime.datetime(2024, 7, 23, 15, 30, 15, tzinfo=tzlocal())}, {'Name': 'samee-techcatalyst-labs', 'CreationDate': datetime.datetime(2024, 7, 23, 12, 44, 38, tzinfo=tzlocal())}, {'Name': 'se-bucket-100', 'CreationDate': datetime.datetime(2024, 6, 18, 16, 38, 4, tzinfo=tzlocal())}, {'Name': 'seatownbucket88', 'CreationDate': datetime.datetime(2022, 6, 22, 23, 53, 37, tzinfo=tzlocal())}, {'Name': 'sriya-awswrangler-bucket', 'CreationDate': datetime.datetime(2024, 7, 23, 15, 17, 5, tzinfo=tzlocal())}, {'Name': 'student-6-alternate', 'CreationDate': datetime.datetime(2023, 10, 20, 18, 20, 28, tzinfo=tzlocal())}, {'Name': 'student-6-main', 'CreationDate': datetime.datetime(2023, 10, 20, 18, 20, 29, tzinfo=tzlocal())}, {'Name': 'student17-terraform-provisioners-example', 'CreationDate': datetime.datetime(2023, 10, 19, 16, 3, 19, tzinfo=tzlocal())}, {'Name': 'student22-ex06', 'CreationDate': datetime.datetime(2023, 10, 20, 15, 56, 51, tzinfo=tzlocal())}, {'Name': 'su05297-web-bucket', 'CreationDate': datetime.datetime(2024, 6, 26, 15, 12, 33, tzinfo=tzlocal())}, {'Name': 'super-unique-terraform-bucket', 'CreationDate': datetime.datetime(2024, 3, 18, 20, 52, 50, tzinfo=tzlocal())}, {'Name': 'teacher2-terraform-provisioners-example', 'CreationDate': datetime.datetime(2023, 10, 19, 16, 13, 8, tzinfo=tzlocal())}, {'Name': 'techcatalyst-labs', 'CreationDate': datetime.datetime(2024, 7, 22, 5, 58, 16, tzinfo=tzlocal())}, {'Name': 'techcatalyst-public', 'CreationDate': datetime.datetime(2024, 7, 9, 16, 59, 55, tzinfo=tzlocal())}, {'Name': 'techcatalyst-raw', 'CreationDate': datetime.datetime(2024, 6, 27, 5, 26, 2, tzinfo=tzlocal())}, {'Name': 'techcatalyst-target', 'CreationDate': datetime.datetime(2024, 7, 22, 8, 29, 50, tzinfo=tzlocal())}, {'Name': 'techcatalyst-transformed', 'CreationDate': datetime.datetime(2024, 6, 27, 8, 48, 43, tzinfo=tzlocal())}, {'Name': 'techcatalyst-transformed-glue', 'CreationDate': datetime.datetime(2024, 6, 27, 11, 56, 31, tzinfo=tzlocal())}, {'Name': 'terraform-di-student17', 'CreationDate': datetime.datetime(2023, 10, 20, 18, 57, 4, tzinfo=tzlocal())}, {'Name': 'terraform-di-student17-alternate', 'CreationDate': datetime.datetime(2023, 10, 20, 18, 57, 4, tzinfo=tzlocal())}, {'Name': 'terraform-lab5--42433', 'CreationDate': datetime.datetime(2023, 10, 20, 14, 37, 39, tzinfo=tzlocal())}, {'Name': 'terraform-lab5--63647', 'CreationDate': datetime.datetime(2023, 10, 20, 14, 22, 7, tzinfo=tzlocal())}, {'Name': 'terraform-lab5--64023', 'CreationDate': datetime.datetime(2023, 10, 19, 20, 57, 45, tzinfo=tzlocal())}, {'Name': 'terraform-lab5--76528', 'CreationDate': datetime.datetime(2023, 10, 20, 14, 23, 3, tzinfo=tzlocal())}, {'Name': 'terraform-lab5--92518', 'CreationDate': datetime.datetime(2024, 3, 19, 20, 52, 27, tzinfo=tzlocal())}, {'Name': 'terraform-lab5--95453', 'CreationDate': datetime.datetime(2023, 10, 20, 14, 18, 38, tzinfo=tzlocal())}, {'Name': 'test-connect-sh03945', 'CreationDate': datetime.datetime(2024, 6, 21, 13, 22, 32, tzinfo=tzlocal())}, {'Name': 'thisisatestbucket123452439', 'CreationDate': datetime.datetime(2023, 9, 28, 14, 53, 56, tzinfo=tzlocal())}, {'Name': 'tlopresti-lm-code-bucket', 'CreationDate': datetime.datetime(2020, 2, 5, 16, 21, 41, tzinfo=tzlocal())}, {'Name': 'troy-aws-assessment-bucket', 'CreationDate': datetime.datetime(2023, 9, 8, 17, 16, 14, tzinfo=tzlocal())}, {'Name': 'vlh-student2', 'CreationDate': datetime.datetime(2023, 10, 20, 14, 39, 44, tzinfo=tzlocal())}, {'Name': 'vlh-student2-us-east-2', 'CreationDate': datetime.datetime(2023, 10, 20, 18, 14, 50, tzinfo=tzlocal())}, {'Name': 'will-assessment-bucket', 'CreationDate': datetime.datetime(2023, 9, 8, 16, 32, 8, tzinfo=tzlocal())}, {'Name': 'will-lambda-s3', 'CreationDate': datetime.datetime(2023, 9, 19, 16, 14, 38, tzinfo=tzlocal())}, {'Name': 'will-lm-code-bucket', 'CreationDate': datetime.datetime(2020, 2, 5, 18, 47, 31, tzinfo=tzlocal())}, {'Name': 'wramey-lm-code-bucket', 'CreationDate': datetime.datetime(2020, 2, 5, 16, 30, 50, tzinfo=tzlocal())}, {'Name': 'zayd-public', 'CreationDate': datetime.datetime(2024, 7, 23, 15, 12, 4, tzinfo=tzlocal())}]\n"
     ]
    }
   ],
   "source": [
    "print(response['Buckets'])"
   ]
  },
  {
   "cell_type": "code",
   "execution_count": 7,
   "metadata": {},
   "outputs": [
    {
     "name": "stdout",
     "output_type": "stream",
     "text": [
      "us-west-2\n"
     ]
    }
   ],
   "source": [
    "# getting the location of a specified bucket:\n",
    "response = s3.get_bucket_location(Bucket='techcatalyst-public')\n",
    "print(response['LocationConstraint'])"
   ]
  },
  {
   "cell_type": "code",
   "execution_count": 8,
   "metadata": {},
   "outputs": [
    {
     "name": "stdout",
     "output_type": "stream",
     "text": [
      "{'ResponseMetadata': {'RequestId': '6ZPW3WJS4D6RBYTZ', 'HostId': 'IHo3masgwx12yvaUeKPQJ0nZAqUN8wQQXZCa8PuXZt+PUgfqvaMbwhtsShbW/mtAPvyAfpsEypE=', 'HTTPStatusCode': 200, 'HTTPHeaders': {'x-amz-id-2': 'IHo3masgwx12yvaUeKPQJ0nZAqUN8wQQXZCa8PuXZt+PUgfqvaMbwhtsShbW/mtAPvyAfpsEypE=', 'x-amz-request-id': '6ZPW3WJS4D6RBYTZ', 'date': 'Tue, 23 Jul 2024 21:16:51 GMT', 'location': '/sriya-awswrangler-bucket', 'server': 'AmazonS3', 'content-length': '0'}, 'RetryAttempts': 0}, 'Location': '/sriya-awswrangler-bucket'}\n"
     ]
    }
   ],
   "source": [
    "bucket_name = 'sriya-awswrangler-bucket'\n",
    "response = s3.create_bucket(Bucket=bucket_name)\n",
    "print(response)"
   ]
  },
  {
   "cell_type": "code",
   "execution_count": 11,
   "metadata": {},
   "outputs": [],
   "source": [
    "# uploading a file using the upload_file method: \n",
    "filename = 'cute_dogs.jpg'  # Replace with your file path\n",
    "key = 'cute_dogs.jpg'  # Replace with your file key in S3\n",
    "\n",
    "# Upload the file to S3\n",
    "s3.upload_file(filename, bucket_name, key)"
   ]
  },
  {
   "cell_type": "code",
   "execution_count": 12,
   "metadata": {},
   "outputs": [
    {
     "name": "stdout",
     "output_type": "stream",
     "text": [
      "File uploaded to bucket sriya-awswrangler-bucket with key cute_koala.jpg\n"
     ]
    }
   ],
   "source": [
    "# uploading a file using the put_object method:\n",
    "key = 'cute_koala.jpg'\n",
    "with open(key, 'rb') as f:\n",
    "    s3.put_object(Bucket=bucket_name, Key=key, Body=f)\n",
    "# Print a confirmation message\n",
    "print(f'File uploaded to bucket {bucket_name} with key {key}')"
   ]
  },
  {
   "cell_type": "code",
   "execution_count": 9,
   "metadata": {},
   "outputs": [],
   "source": [
    "import awswrangler as wr\n",
    "\n",
    "boto3.setup_default_session(\n",
    "    aws_access_key_id=aws_access_key,\n",
    "    aws_secret_access_key=aws_secret_key,\n",
    "    region_name='us-east-1'\n",
    ")"
   ]
  },
  {
   "cell_type": "code",
   "execution_count": 42,
   "metadata": {},
   "outputs": [
    {
     "name": "stdout",
     "output_type": "stream",
     "text": [
      "Requirement already satisfied: numpy in /usr/local/python/3.10.13/lib/python3.10/site-packages (2.0.1)\n",
      "Note: you may need to restart the kernel to use updated packages.\n"
     ]
    }
   ],
   "source": [
    "%pip install numpy --upgrade"
   ]
  },
  {
   "cell_type": "code",
   "execution_count": 11,
   "metadata": {},
   "outputs": [],
   "source": [
    "try:\n",
    "    df = wr.s3.read_parquet(\"s3://techcatalyst-raw/yellow_tripdata_2024-01.parquet\")\n",
    "except Exception as e:\n",
    "    print('error')\n",
    "    print(e)"
   ]
  },
  {
   "cell_type": "code",
   "execution_count": 20,
   "metadata": {},
   "outputs": [
    {
     "name": "stdout",
     "output_type": "stream",
     "text": [
      "<class 'pandas.core.frame.DataFrame'>\n",
      "RangeIndex: 2964624 entries, 0 to 2964623\n",
      "Data columns (total 19 columns):\n",
      " #   Column                 Dtype         \n",
      "---  ------                 -----         \n",
      " 0   VendorID               Int32         \n",
      " 1   tpep_pickup_datetime   datetime64[us]\n",
      " 2   tpep_dropoff_datetime  datetime64[us]\n",
      " 3   passenger_count        Int64         \n",
      " 4   trip_distance          float64       \n",
      " 5   RatecodeID             Int64         \n",
      " 6   store_and_fwd_flag     string        \n",
      " 7   PULocationID           Int32         \n",
      " 8   DOLocationID           Int32         \n",
      " 9   payment_type           Int64         \n",
      " 10  fare_amount            float64       \n",
      " 11  extra                  float64       \n",
      " 12  mta_tax                float64       \n",
      " 13  tip_amount             float64       \n",
      " 14  tolls_amount           float64       \n",
      " 15  improvement_surcharge  float64       \n",
      " 16  total_amount           float64       \n",
      " 17  congestion_surcharge   float64       \n",
      " 18  Airport_fee            float64       \n",
      "dtypes: Int32(3), Int64(3), datetime64[us](2), float64(10), string(1)\n",
      "memory usage: 412.8 MB\n"
     ]
    }
   ],
   "source": [
    "df.info()"
   ]
  },
  {
   "cell_type": "code",
   "execution_count": null,
   "metadata": {},
   "outputs": [],
   "source": []
  },
  {
   "cell_type": "code",
   "execution_count": 24,
   "metadata": {},
   "outputs": [
    {
     "data": {
      "text/plain": [
       "{'paths': ['s3://sriya-awswrangler-bucket/af315604b05648f981d826e9f722e8c0.snappy.parquet'],\n",
       " 'partitions_values': {}}"
      ]
     },
     "execution_count": 24,
     "metadata": {},
     "output_type": "execute_result"
    }
   ],
   "source": [
    "wr.s3.to_parquet(\n",
    "    df= df,\n",
    "    path= \"s3://sriya-awswrangler-bucket/\",\n",
    "    dataset=True,\n",
    "    mode='overwrite'\n",
    ")"
   ]
  },
  {
   "cell_type": "code",
   "execution_count": 25,
   "metadata": {},
   "outputs": [
    {
     "name": "stdout",
     "output_type": "stream",
     "text": [
      "                    Database            Description\n",
      "0     alina-awswrangler_test                       \n",
      "1           awswrangler_test                       \n",
      "2                    default  Default Hive database\n",
      "3      gina-awswrangler_test                       \n",
      "4        jc-awswrangler_test                       \n",
      "5   kaitlyn-awswrangler_test                       \n",
      "6   nyctaxi-gluestudio-samee                       \n",
      "7     peter_awswrangler_test                       \n",
      "8    smalik-awswrangler-test                       \n",
      "9                  tatwan-db                       \n",
      "10                taxi-atwan                       \n"
     ]
    }
   ],
   "source": [
    "databases = wr.catalog.databases()\n",
    "print(databases)"
   ]
  },
  {
   "cell_type": "code",
   "execution_count": 26,
   "metadata": {},
   "outputs": [],
   "source": [
    "if \"`sriya-awswrangler-test`\" not in databases.values:\n",
    "    # YOUR CODE\n",
    "    wr.catalog.create_database(\n",
    "        name='sriya-awswrangler-test'\n",
    "    )\n",
    "else:\n",
    "    print(\"Database awswrangler_test already exists\")"
   ]
  },
  {
   "cell_type": "code",
   "execution_count": 28,
   "metadata": {},
   "outputs": [
    {
     "name": "stdout",
     "output_type": "stream",
     "text": [
      "Empty DataFrame\n",
      "Columns: [Database, Table, Description, TableType, Columns, Partitions]\n",
      "Index: []\n"
     ]
    }
   ],
   "source": [
    "tables = wr.catalog.tables(database='sriya-awswrangler-test')"
   ]
  },
  {
   "cell_type": "code",
   "execution_count": 1,
   "metadata": {},
   "outputs": [],
   "source": [
    "desc = \"This the Taxi table for January, 2024.\"\n",
    "param = {\"source\": \"NYC Taxi Web Service https://www.nyc.gov\", \"class\": \"e-commerce\"}\n",
    "comments = {\n",
    "    \"vendorid\":\"A code indicating the TPEP provider that provided the record\",\n",
    "    \"tpep_pickup_datetime\": \"The date and time when the meter was engaged.\",\n",
    "    \"pulocationid\": \"TLC Taxi Zone in which the taximeter was engaged\",\n",
    "    \"payment_type\": \"A numeric code signifying how the passenger paid for the trip\",\n",
    "    \"fare_amount\": \"The time-and-distance fare calculated by the meter.\",\n",
    "    \"passenger_count\":\"The number of passengers in the vehicle \",\n",
    "    \"extra\":\"Miscellaneous extras and surcharges. Currently, this only includes the $0.50 and $1 rush hour and overnight chargeswas engaged.\",\n",
    "    \"pulocationid\": \"TLC Taxi Zone in which the taximeter was engaged\",\n",
    "    \"payment_type\": \"A numeric code signifying how the passenger paid for the trip\",\n",
    "    \"fare_amount\": \"The time-and-distance fare calculated by the meter.\",\n",
    "    \"passenger_count\":\"The number of passengers in the vehicle \",\n",
    "    \"extra\":\"Miscellaneous extras and surcharges. Currently, this only includes the $0.50 and $1 rush hour and overnight charges\",\n",
    "    \"tip_amount\":\"Tip amount - This field is automatically populated for credit card tips. Cash tips are not included .\",\n",
    "    \"tolls_amount\":\"Total amount of all tolls paid in trip.\",\n",
    "    \"airport_fee\":\"$1.25 for pickup only at LaGuardia and John F.Kennedy Airports\"}"
   ]
  },
  {
   "cell_type": "code",
   "execution_count": 13,
   "metadata": {},
   "outputs": [],
   "source": [
    "\n",
    "res = wr.s3.to_parquet(\n",
    "    df=df,\n",
    "    path=\"s3://sriya-awswrangler-bucket/\",\n",
    "    dataset=True,\n",
    "    database='sriya-awswrangler-test',\n",
    "    table=\"rides\",\n",
    "    mode=\"overwrite\",\n",
    "    glue_table_settings=wr.typing.GlueTableSettings(description=desc, parameters=param, columns_comments=comments)\n",
    ")"
   ]
  },
  {
   "cell_type": "code",
   "execution_count": 15,
   "metadata": {},
   "outputs": [
    {
     "name": "stdout",
     "output_type": "stream",
     "text": [
      "   vendorid tpep_pickup_datetime tpep_dropoff_datetime  passenger_count  \\\n",
      "0         2  2024-01-24 15:17:12   2024-01-24 15:34:53                1   \n",
      "1         2  2024-01-24 15:42:55   2024-01-24 15:51:35                1   \n",
      "2         2  2024-01-24 15:52:23   2024-01-24 16:12:53                1   \n",
      "3         1  2024-01-24 15:30:55   2024-01-24 16:38:46                1   \n",
      "4         2  2024-01-24 15:21:48   2024-01-24 15:59:06                2   \n",
      "5         2  2024-01-24 15:52:24   2024-01-24 16:01:39                1   \n",
      "6         2  2024-01-24 15:08:55   2024-01-24 15:31:35                1   \n",
      "7         2  2024-01-24 15:47:59   2024-01-24 16:12:38                1   \n",
      "8         2  2024-01-24 15:55:32   2024-01-24 16:23:01                1   \n",
      "9         1  2024-01-24 15:02:22   2024-01-24 15:13:11                1   \n",
      "\n",
      "   trip_distance  ratecodeid store_and_fwd_flag  pulocationid  dolocationid  \\\n",
      "0           3.33           1                  N           239           246   \n",
      "1           0.95           1                  N           211           234   \n",
      "2           2.58           1                  N            68           144   \n",
      "3          15.80           2                  N           164           132   \n",
      "4           7.69           1                  N           231           161   \n",
      "5           1.61           1                  N           234           249   \n",
      "6           4.38           1                  N            88           211   \n",
      "7           8.31           1                  N           138           262   \n",
      "8           8.47           1                  N           132           192   \n",
      "9           1.40           1                  N           226             7   \n",
      "\n",
      "   payment_type  fare_amount  extra  mta_tax  tip_amount  tolls_amount  \\\n",
      "0             1         20.5    0.0      0.5        3.00          0.00   \n",
      "1             1          9.3    0.0      0.5        2.66          0.00   \n",
      "2             1         18.4    0.0      0.5        4.48          0.00   \n",
      "3             1         70.0    2.5      0.5       10.00          6.94   \n",
      "4             1         40.8    0.0      0.5        6.50          0.00   \n",
      "5             1         10.7    0.0      0.5        3.67          0.00   \n",
      "6             1         25.4    0.0      0.5        5.88          0.00   \n",
      "7             1         35.2    5.0      0.5       10.00          6.94   \n",
      "8             2         36.6    0.0      0.5        0.00          0.00   \n",
      "9             2         11.4    0.0      0.5        0.00          0.00   \n",
      "\n",
      "   improvement_surcharge  total_amount  congestion_surcharge  airport_fee  \n",
      "0                    1.0         27.50                   2.5         0.00  \n",
      "1                    1.0         15.96                   2.5         0.00  \n",
      "2                    1.0         26.88                   2.5         0.00  \n",
      "3                    1.0         90.94                   2.5         0.00  \n",
      "4                    1.0         51.30                   2.5         0.00  \n",
      "5                    1.0         18.37                   2.5         0.00  \n",
      "6                    1.0         35.28                   2.5         0.00  \n",
      "7                    1.0         62.89                   2.5         1.75  \n",
      "8                    1.0         39.85                   0.0         1.75  \n",
      "9                    1.0         12.90                   0.0         0.00  \n"
     ]
    }
   ],
   "source": [
    "df_athena = wr.athena.read_sql_query(\n",
    "    sql=\"SELECT * FROM RIDES LIMIT 10\",\n",
    "    database=\"sriya-awswrangler-test\",\n",
    "    ctas_approach=True\n",
    ")\n",
    "print(df_athena)"
   ]
  }
 ],
 "metadata": {
  "kernelspec": {
   "display_name": "Python 3",
   "language": "python",
   "name": "python3"
  },
  "language_info": {
   "codemirror_mode": {
    "name": "ipython",
    "version": 3
   },
   "file_extension": ".py",
   "mimetype": "text/x-python",
   "name": "python",
   "nbconvert_exporter": "python",
   "pygments_lexer": "ipython3",
   "version": "3.10.13"
  }
 },
 "nbformat": 4,
 "nbformat_minor": 2
}
